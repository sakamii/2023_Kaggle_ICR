{
 "cells": [
  {
   "cell_type": "code",
   "execution_count": 1,
   "id": "aaf7b1ca",
   "metadata": {
    "_cell_guid": "b1076dfc-b9ad-4769-8c92-a6c4dae69d19",
    "_uuid": "8f2839f25d086af736a60e9eeb907d3b93b6e0e5",
    "execution": {
     "iopub.execute_input": "2023-06-16T08:35:40.255755Z",
     "iopub.status.busy": "2023-06-16T08:35:40.254913Z",
     "iopub.status.idle": "2023-06-16T08:35:40.279904Z",
     "shell.execute_reply": "2023-06-16T08:35:40.278783Z"
    },
    "papermill": {
     "duration": 0.035365,
     "end_time": "2023-06-16T08:35:40.282341",
     "exception": false,
     "start_time": "2023-06-16T08:35:40.246976",
     "status": "completed"
    },
    "tags": []
   },
   "outputs": [
    {
     "name": "stdout",
     "output_type": "stream",
     "text": [
      "/kaggle/input/icr-create-folds/train_folds.csv\n",
      "/kaggle/input/icr-create-folds/__results__.html\n",
      "/kaggle/input/icr-create-folds/__resultx__.html\n",
      "/kaggle/input/icr-create-folds/__notebook__.ipynb\n",
      "/kaggle/input/icr-create-folds/__output__.json\n",
      "/kaggle/input/icr-create-folds/custom.css\n",
      "/kaggle/input/icr-identify-age-related-conditions/sample_submission.csv\n",
      "/kaggle/input/icr-identify-age-related-conditions/greeks.csv\n",
      "/kaggle/input/icr-identify-age-related-conditions/train.csv\n",
      "/kaggle/input/icr-identify-age-related-conditions/test.csv\n",
      "/kaggle/input/ml-stratifiers/ml_stratifiers.py\n"
     ]
    }
   ],
   "source": [
    "# This Python 3 environment comes with many helpful analytics libraries installed\n",
    "# It is defined by the kaggle/python Docker image: https://github.com/kaggle/docker-python\n",
    "# For example, here's several helpful packages to load\n",
    "\n",
    "import numpy as np # linear algebra\n",
    "import pandas as pd # data processing, CSV file I/O (e.g. pd.read_csv)\n",
    "\n",
    "# Input data files are available in the read-only \"../input/\" directory\n",
    "# For example, running this (by clicking run or pressing Shift+Enter) will list all files under the input directory\n",
    "\n",
    "import os\n",
    "for dirname, _, filenames in os.walk('/kaggle/input'):\n",
    "    for filename in filenames:\n",
    "        print(os.path.join(dirname, filename))\n",
    "\n",
    "# You can write up to 20GB to the current directory (/kaggle/working/) that gets preserved as output when you create a version using \"Save & Run All\" \n",
    "# You can also write temporary files to /kaggle/temp/, but they won't be saved outside of the current session"
   ]
  },
  {
   "cell_type": "code",
   "execution_count": 2,
   "id": "b063e966",
   "metadata": {
    "execution": {
     "iopub.execute_input": "2023-06-16T08:35:40.295221Z",
     "iopub.status.busy": "2023-06-16T08:35:40.294887Z",
     "iopub.status.idle": "2023-06-16T08:35:42.104050Z",
     "shell.execute_reply": "2023-06-16T08:35:42.103233Z"
    },
    "papermill": {
     "duration": 1.81838,
     "end_time": "2023-06-16T08:35:42.106577",
     "exception": false,
     "start_time": "2023-06-16T08:35:40.288197",
     "status": "completed"
    },
    "tags": []
   },
   "outputs": [],
   "source": [
    "import numpy as np # linear algebra\n",
    "import pandas as pd # data processing, CSV file I/O (e.g. pd.read_csv)\n",
    "from sklearn.metrics import log_loss\n",
    "from catboost import Pool, CatBoostClassifier\n",
    "\n",
    "import warnings\n",
    "warnings.filterwarnings('ignore')"
   ]
  },
  {
   "cell_type": "code",
   "execution_count": 3,
   "id": "d7d18aac",
   "metadata": {
    "execution": {
     "iopub.execute_input": "2023-06-16T08:35:42.120803Z",
     "iopub.status.busy": "2023-06-16T08:35:42.119817Z",
     "iopub.status.idle": "2023-06-16T08:35:42.131161Z",
     "shell.execute_reply": "2023-06-16T08:35:42.130359Z"
    },
    "papermill": {
     "duration": 0.021393,
     "end_time": "2023-06-16T08:35:42.133766",
     "exception": false,
     "start_time": "2023-06-16T08:35:42.112373",
     "status": "completed"
    },
    "tags": []
   },
   "outputs": [],
   "source": [
    "import sys\n",
    "sys.path.append('/kaggle/input/ml-stratifiers')\n",
    "\n",
    "import pandas as pd # data processing, CSV file I/O (e.g. pd.read_csv)\n",
    "from ml_stratifiers import MultilabelStratifiedKFold"
   ]
  },
  {
   "cell_type": "code",
   "execution_count": 4,
   "id": "145b3f57",
   "metadata": {
    "execution": {
     "iopub.execute_input": "2023-06-16T08:35:42.147190Z",
     "iopub.status.busy": "2023-06-16T08:35:42.146358Z",
     "iopub.status.idle": "2023-06-16T08:35:42.202250Z",
     "shell.execute_reply": "2023-06-16T08:35:42.201301Z"
    },
    "papermill": {
     "duration": 0.065122,
     "end_time": "2023-06-16T08:35:42.204747",
     "exception": false,
     "start_time": "2023-06-16T08:35:42.139625",
     "status": "completed"
    },
    "tags": []
   },
   "outputs": [],
   "source": [
    "Train             = pd.read_csv('/kaggle/input/icr-create-folds/train_folds.csv')\n",
    "Test              = pd.read_csv('/kaggle/input/icr-identify-age-related-conditions/test.csv')\n",
    "greeks            = pd.read_csv('/kaggle/input/icr-identify-age-related-conditions/greeks.csv')\n",
    "sample_submission = pd.read_csv('/kaggle/input/icr-identify-age-related-conditions/sample_submission.csv')"
   ]
  },
  {
   "cell_type": "code",
   "execution_count": 5,
   "id": "e24f0585",
   "metadata": {
    "execution": {
     "iopub.execute_input": "2023-06-16T08:35:42.218712Z",
     "iopub.status.busy": "2023-06-16T08:35:42.218111Z",
     "iopub.status.idle": "2023-06-16T08:35:42.266128Z",
     "shell.execute_reply": "2023-06-16T08:35:42.265001Z"
    },
    "papermill": {
     "duration": 0.057956,
     "end_time": "2023-06-16T08:35:42.268957",
     "exception": false,
     "start_time": "2023-06-16T08:35:42.211001",
     "status": "completed"
    },
    "tags": []
   },
   "outputs": [],
   "source": [
    "Train['kfold'] = -1\n",
    "\n",
    "kf = MultilabelStratifiedKFold(n_splits=5, shuffle=True, random_state=42)\n",
    "for fold, (train_indicies, valid_indicies) in enumerate(kf.split(X=Train, y=greeks.iloc[:,1:-1])):\n",
    "    Train.loc[valid_indicies, \"kfold\"] = fold"
   ]
  },
  {
   "cell_type": "code",
   "execution_count": 6,
   "id": "c4d0ec58",
   "metadata": {
    "execution": {
     "iopub.execute_input": "2023-06-16T08:35:42.282042Z",
     "iopub.status.busy": "2023-06-16T08:35:42.281635Z",
     "iopub.status.idle": "2023-06-16T08:35:42.290065Z",
     "shell.execute_reply": "2023-06-16T08:35:42.289132Z"
    },
    "papermill": {
     "duration": 0.017833,
     "end_time": "2023-06-16T08:35:42.292533",
     "exception": false,
     "start_time": "2023-06-16T08:35:42.274700",
     "status": "completed"
    },
    "tags": []
   },
   "outputs": [],
   "source": [
    "Train['EJ'] = Train['EJ'].replace({'A': 0, 'B': 1})\n",
    "Test['EJ']  = Test['EJ'].replace({'A': 0, 'B': 1})"
   ]
  },
  {
   "cell_type": "code",
   "execution_count": 7,
   "id": "97f2f7e5",
   "metadata": {
    "execution": {
     "iopub.execute_input": "2023-06-16T08:35:42.307205Z",
     "iopub.status.busy": "2023-06-16T08:35:42.306784Z",
     "iopub.status.idle": "2023-06-16T08:35:42.317638Z",
     "shell.execute_reply": "2023-06-16T08:35:42.316485Z"
    },
    "papermill": {
     "duration": 0.019945,
     "end_time": "2023-06-16T08:35:42.319915",
     "exception": false,
     "start_time": "2023-06-16T08:35:42.299970",
     "status": "completed"
    },
    "tags": []
   },
   "outputs": [],
   "source": [
    "Train.drop(columns=['BC', 'CL'], inplace=True)\n",
    "Test.drop(columns=['BC', 'CL'], inplace=True)"
   ]
  },
  {
   "cell_type": "code",
   "execution_count": 8,
   "id": "573daa49",
   "metadata": {
    "execution": {
     "iopub.execute_input": "2023-06-16T08:35:42.332207Z",
     "iopub.status.busy": "2023-06-16T08:35:42.331891Z",
     "iopub.status.idle": "2023-06-16T08:35:42.336556Z",
     "shell.execute_reply": "2023-06-16T08:35:42.335672Z"
    },
    "papermill": {
     "duration": 0.013402,
     "end_time": "2023-06-16T08:35:42.338805",
     "exception": false,
     "start_time": "2023-06-16T08:35:42.325403",
     "status": "completed"
    },
    "tags": []
   },
   "outputs": [],
   "source": [
    "features = Train.columns[1:-2]\n",
    "label    = Train.columns[-2]"
   ]
  },
  {
   "cell_type": "code",
   "execution_count": 9,
   "id": "7fa43949",
   "metadata": {
    "execution": {
     "iopub.execute_input": "2023-06-16T08:35:42.351595Z",
     "iopub.status.busy": "2023-06-16T08:35:42.351263Z",
     "iopub.status.idle": "2023-06-16T08:35:42.358953Z",
     "shell.execute_reply": "2023-06-16T08:35:42.358010Z"
    },
    "papermill": {
     "duration": 0.016478,
     "end_time": "2023-06-16T08:35:42.360982",
     "exception": false,
     "start_time": "2023-06-16T08:35:42.344504",
     "status": "completed"
    },
    "tags": []
   },
   "outputs": [],
   "source": [
    "def balance_logloss(y_true, y_pred):\n",
    "    y_pred = np.clip(y_pred, 1e-15, 1-1e-15)\n",
    "    y_pred / np.sum(y_pred, axis=1)[:, None]\n",
    "    nc = np.bincount(y_true)\n",
    "    w0, w1 = 1/(nc[0]/y_true.shape[0]), 1/(nc[1]/y_true.shape[0])\n",
    "    \n",
    "    logloss = (-w0/nc[0]*(np.sum(np.where(y_true==0,1,0) * np.log(y_pred[:,0]))) - w1/nc[1]*(np.sum(np.where(y_true!=0,1,0) * np.log(y_pred[:,1])))) / (w0+w1)\n",
    "    \n",
    "    return logloss"
   ]
  },
  {
   "cell_type": "code",
   "execution_count": 10,
   "id": "e2b1bd66",
   "metadata": {
    "execution": {
     "iopub.execute_input": "2023-06-16T08:35:42.374565Z",
     "iopub.status.busy": "2023-06-16T08:35:42.373617Z",
     "iopub.status.idle": "2023-06-16T08:38:49.692382Z",
     "shell.execute_reply": "2023-06-16T08:38:49.690903Z"
    },
    "papermill": {
     "duration": 187.327881,
     "end_time": "2023-06-16T08:38:49.694550",
     "exception": false,
     "start_time": "2023-06-16T08:35:42.366669",
     "status": "completed"
    },
    "tags": []
   },
   "outputs": [
    {
     "name": "stdout",
     "output_type": "stream",
     "text": [
      "------------------ Fold: 0\n",
      "0:\tlearn: 0.6921696\ttest: 0.6922713\tbest: 0.6922713 (0)\ttotal: 59.7ms\tremaining: 9m 57s\n",
      "1000:\tlearn: 0.2914837\ttest: 0.3332011\tbest: 0.3332011 (1000)\ttotal: 3.62s\tremaining: 32.5s\n",
      "2000:\tlearn: 0.1884657\ttest: 0.2587154\tbest: 0.2587154 (2000)\ttotal: 7.24s\tremaining: 29s\n",
      "3000:\tlearn: 0.1249975\ttest: 0.2219806\tbest: 0.2219806 (3000)\ttotal: 10.8s\tremaining: 25.3s\n",
      "4000:\tlearn: 0.0882288\ttest: 0.2057668\tbest: 0.2057668 (4000)\ttotal: 14.5s\tremaining: 21.7s\n",
      "5000:\tlearn: 0.0663189\ttest: 0.1971441\tbest: 0.1971441 (5000)\ttotal: 18.1s\tremaining: 18.1s\n",
      "6000:\tlearn: 0.0523241\ttest: 0.1928064\tbest: 0.1928003 (5925)\ttotal: 22s\tremaining: 14.7s\n",
      "7000:\tlearn: 0.0422477\ttest: 0.1904998\tbest: 0.1904944 (6999)\ttotal: 25.6s\tremaining: 11s\n",
      "8000:\tlearn: 0.0349772\ttest: 0.1894683\tbest: 0.1893995 (7784)\ttotal: 29.2s\tremaining: 7.29s\n",
      "9000:\tlearn: 0.0296379\ttest: 0.1885892\tbest: 0.1884775 (8944)\ttotal: 32.8s\tremaining: 3.63s\n",
      "9999:\tlearn: 0.0255230\ttest: 0.1881262\tbest: 0.1881251 (9992)\ttotal: 36.4s\tremaining: 0us\n",
      "\n",
      "bestTest = 0.1881251219\n",
      "bestIteration = 9992\n",
      "\n",
      "Shrink model to first 9993 iterations.\n",
      "0 0.18812512190157424 0.6448334430420131\n",
      "------------------ Fold: 1\n",
      "0:\tlearn: 0.6923071\ttest: 0.6922677\tbest: 0.6922677 (0)\ttotal: 5.51ms\tremaining: 55.1s\n",
      "1000:\tlearn: 0.2990845\ttest: 0.3302537\tbest: 0.3302537 (1000)\ttotal: 3.62s\tremaining: 32.5s\n",
      "2000:\tlearn: 0.1982837\ttest: 0.2556061\tbest: 0.2556061 (2000)\ttotal: 7.25s\tremaining: 29s\n",
      "3000:\tlearn: 0.1319289\ttest: 0.2150314\tbest: 0.2150314 (3000)\ttotal: 10.8s\tremaining: 25.3s\n",
      "4000:\tlearn: 0.0929357\ttest: 0.1935350\tbest: 0.1935350 (4000)\ttotal: 14.8s\tremaining: 22.2s\n",
      "5000:\tlearn: 0.0693224\ttest: 0.1804868\tbest: 0.1804730 (4999)\ttotal: 18.4s\tremaining: 18.4s\n",
      "6000:\tlearn: 0.0541666\ttest: 0.1722464\tbest: 0.1722464 (6000)\ttotal: 22s\tremaining: 14.6s\n",
      "7000:\tlearn: 0.0436146\ttest: 0.1657961\tbest: 0.1657961 (7000)\ttotal: 25.5s\tremaining: 10.9s\n",
      "8000:\tlearn: 0.0359230\ttest: 0.1608924\tbest: 0.1608924 (8000)\ttotal: 29.2s\tremaining: 7.29s\n",
      "9000:\tlearn: 0.0301609\ttest: 0.1566397\tbest: 0.1566397 (9000)\ttotal: 32.7s\tremaining: 3.63s\n",
      "9999:\tlearn: 0.0256803\ttest: 0.1536137\tbest: 0.1536127 (9972)\ttotal: 36.3s\tremaining: 0us\n",
      "\n",
      "bestTest = 0.1536127299\n",
      "bestIteration = 9972\n",
      "\n",
      "Shrink model to first 9973 iterations.\n",
      "1 0.15361272989627803 0.33214756100473886\n",
      "------------------ Fold: 2\n",
      "0:\tlearn: 0.6919470\ttest: 0.6920600\tbest: 0.6920600 (0)\ttotal: 6.35ms\tremaining: 1m 3s\n",
      "1000:\tlearn: 0.2962630\ttest: 0.3686525\tbest: 0.3686525 (1000)\ttotal: 3.58s\tremaining: 32.2s\n",
      "2000:\tlearn: 0.1974233\ttest: 0.2931248\tbest: 0.2931248 (2000)\ttotal: 7.27s\tremaining: 29.1s\n",
      "3000:\tlearn: 0.1331549\ttest: 0.2466935\tbest: 0.2466935 (3000)\ttotal: 11.1s\tremaining: 25.8s\n",
      "4000:\tlearn: 0.0950399\ttest: 0.2198758\tbest: 0.2198730 (3998)\ttotal: 14.6s\tremaining: 21.9s\n",
      "5000:\tlearn: 0.0723240\ttest: 0.2038747\tbest: 0.2038580 (4994)\ttotal: 18.1s\tremaining: 18.1s\n",
      "6000:\tlearn: 0.0573879\ttest: 0.1928058\tbest: 0.1928058 (6000)\ttotal: 21.8s\tremaining: 14.5s\n",
      "7000:\tlearn: 0.0470979\ttest: 0.1858178\tbest: 0.1858116 (6998)\ttotal: 25.3s\tremaining: 10.8s\n",
      "8000:\tlearn: 0.0391641\ttest: 0.1795426\tbest: 0.1795390 (7991)\ttotal: 28.9s\tremaining: 7.22s\n",
      "9000:\tlearn: 0.0333374\ttest: 0.1750754\tbest: 0.1750754 (9000)\ttotal: 32.5s\tremaining: 3.6s\n",
      "9999:\tlearn: 0.0286949\ttest: 0.1712570\tbest: 0.1712241 (9993)\ttotal: 36s\tremaining: 0us\n",
      "\n",
      "bestTest = 0.1712240543\n",
      "bestIteration = 9993\n",
      "\n",
      "Shrink model to first 9994 iterations.\n",
      "2 0.17122405426027565 0.1940357937413995\n",
      "------------------ Fold: 3\n",
      "0:\tlearn: 0.6921623\ttest: 0.6922764\tbest: 0.6922764 (0)\ttotal: 4.51ms\tremaining: 45.1s\n",
      "1000:\tlearn: 0.3017100\ttest: 0.3344148\tbest: 0.3344148 (1000)\ttotal: 4.01s\tremaining: 36.1s\n",
      "2000:\tlearn: 0.2031447\ttest: 0.2515160\tbest: 0.2515160 (2000)\ttotal: 7.59s\tremaining: 30.3s\n",
      "3000:\tlearn: 0.1377338\ttest: 0.2013165\tbest: 0.2013165 (3000)\ttotal: 11.1s\tremaining: 25.9s\n",
      "4000:\tlearn: 0.0969486\ttest: 0.1719465\tbest: 0.1719465 (4000)\ttotal: 14.7s\tremaining: 22s\n",
      "5000:\tlearn: 0.0726520\ttest: 0.1546577\tbest: 0.1546564 (4998)\ttotal: 18.2s\tremaining: 18.2s\n",
      "6000:\tlearn: 0.0564167\ttest: 0.1435008\tbest: 0.1435008 (6000)\ttotal: 21.8s\tremaining: 14.5s\n",
      "7000:\tlearn: 0.0452992\ttest: 0.1350267\tbest: 0.1350267 (7000)\ttotal: 25.4s\tremaining: 10.9s\n",
      "8000:\tlearn: 0.0373623\ttest: 0.1289521\tbest: 0.1289496 (7999)\ttotal: 28.9s\tremaining: 7.21s\n",
      "9000:\tlearn: 0.0314270\ttest: 0.1243545\tbest: 0.1243545 (9000)\ttotal: 32.5s\tremaining: 3.6s\n",
      "9999:\tlearn: 0.0267877\ttest: 0.1205003\tbest: 0.1205003 (9999)\ttotal: 36.3s\tremaining: 0us\n",
      "\n",
      "bestTest = 0.1205003456\n",
      "bestIteration = 9999\n",
      "\n",
      "3 0.12050034562136261 0.30307099564159706\n",
      "------------------ Fold: 4\n",
      "0:\tlearn: 0.6917836\ttest: 0.6917209\tbest: 0.6917209 (0)\ttotal: 4.51ms\tremaining: 45.1s\n",
      "1000:\tlearn: 0.2975638\ttest: 0.3532920\tbest: 0.3532920 (1000)\ttotal: 3.54s\tremaining: 31.9s\n",
      "2000:\tlearn: 0.1950047\ttest: 0.2782428\tbest: 0.2782428 (2000)\ttotal: 7.17s\tremaining: 28.6s\n",
      "3000:\tlearn: 0.1282316\ttest: 0.2387787\tbest: 0.2387787 (3000)\ttotal: 10.8s\tremaining: 25.1s\n",
      "4000:\tlearn: 0.0891464\ttest: 0.2183975\tbest: 0.2183975 (4000)\ttotal: 14.4s\tremaining: 21.6s\n",
      "5000:\tlearn: 0.0662231\ttest: 0.2067590\tbest: 0.2067200 (4996)\ttotal: 18.1s\tremaining: 18.1s\n",
      "6000:\tlearn: 0.0513247\ttest: 0.1991236\tbest: 0.1991093 (5999)\ttotal: 21.7s\tremaining: 14.4s\n",
      "7000:\tlearn: 0.0409431\ttest: 0.1947253\tbest: 0.1947086 (6998)\ttotal: 25.3s\tremaining: 10.8s\n",
      "8000:\tlearn: 0.0334706\ttest: 0.1915191\tbest: 0.1915087 (7997)\ttotal: 29.2s\tremaining: 7.31s\n",
      "9000:\tlearn: 0.0279776\ttest: 0.1904020\tbest: 0.1902305 (8774)\ttotal: 32.8s\tremaining: 3.64s\n",
      "9999:\tlearn: 0.0238701\ttest: 0.1899827\tbest: 0.1899462 (9601)\ttotal: 36.4s\tremaining: 0us\n",
      "\n",
      "bestTest = 0.1899461638\n",
      "bestIteration = 9601\n",
      "\n",
      "Shrink model to first 9602 iterations.\n",
      "4 0.18994616375058246 0.38894975503907814\n",
      "Log loss:\n",
      "[0.18812512190157424, 0.15361272989627803, 0.17122405426027565, 0.12050034562136261, 0.18994616375058246]\n",
      "0.16468168308601458 0.025710712678621163\n",
      "Balance Log loss:\n",
      "[0.6448334430420131, 0.33214756100473886, 0.1940357937413995, 0.30307099564159706, 0.38894975503907814]\n",
      "0.3726075096937653 0.15015606530731251\n"
     ]
    }
   ],
   "source": [
    "final_valid_predictions = {}\n",
    "final_test_predictions = []\n",
    "s  = []\n",
    "bs = []\n",
    "\n",
    "for k in range(5):\n",
    "    print('------------------ Fold: '+str(k))\n",
    "    train     = Train[Train['kfold'] !=k].reset_index(drop=True)\n",
    "    val       = Train[Train['kfold'] ==k].reset_index(drop=True)\n",
    "    valid_ids = val.Id.values.tolist()\n",
    "\n",
    "    train_dataset = Pool(data=train[features], label=train[label], cat_features=[\"EJ\"] )\n",
    "    eval_dataset  = Pool(data=val[features], label=val[label], cat_features=[\"EJ\"])\n",
    "    params = {\n",
    "       \"iterations\": 10000,\n",
    "        \"verbose\": 1000,\n",
    "        \"learning_rate\": 0.003,\n",
    "        \"depth\": 4,\n",
    "        'auto_class_weights':'Balanced',\n",
    "        'loss_function':'MultiClass',\n",
    "        'eval_metric':'MultiClass:use_weights=False',\n",
    "    }\n",
    "    model = CatBoostClassifier(**params)\n",
    "    model.fit(train_dataset, eval_set=eval_dataset, use_best_model=True)\n",
    "\n",
    "    preds_valid = model.predict_proba(val[features])\n",
    "    preds_test  = model.predict_proba(Test[features])\n",
    "    final_test_predictions.append(preds_test)\n",
    "    final_valid_predictions.update(dict(zip(valid_ids, preds_valid)))\n",
    "    logloss  = log_loss(val[label], preds_valid)\n",
    "    blogloss = balance_logloss(val[label], preds_valid)\n",
    "\n",
    "    s.append(logloss)\n",
    "    bs.append(blogloss)\n",
    "\n",
    "    print(k, logloss, blogloss)\n",
    "print('Log loss:')\n",
    "print(s)\n",
    "print(np.mean(s), np.std(s))  \n",
    "print('Balance Log loss:')\n",
    "print(bs)\n",
    "print(np.mean(bs), np.std(bs))"
   ]
  },
  {
   "cell_type": "code",
   "execution_count": 11,
   "id": "84f03400",
   "metadata": {
    "execution": {
     "iopub.execute_input": "2023-06-16T08:38:49.717523Z",
     "iopub.status.busy": "2023-06-16T08:38:49.716679Z",
     "iopub.status.idle": "2023-06-16T08:38:49.741104Z",
     "shell.execute_reply": "2023-06-16T08:38:49.739997Z"
    },
    "papermill": {
     "duration": 0.038766,
     "end_time": "2023-06-16T08:38:49.743745",
     "exception": false,
     "start_time": "2023-06-16T08:38:49.704979",
     "status": "completed"
    },
    "tags": []
   },
   "outputs": [],
   "source": [
    "final_valid_predictions = pd.DataFrame.from_dict(final_valid_predictions, orient=\"index\").reset_index()\n",
    "final_valid_predictions.columns = ['Id', 'class_0', 'class_1']\n",
    "final_valid_predictions.to_csv(r\"oof.csv\", index=False)\n",
    "\n",
    "final_test_predictions = (final_test_predictions[0] + final_test_predictions[1] + final_test_predictions[2] + final_test_predictions[3] + final_test_predictions[4])/5\n",
    "test_dict = {}\n",
    "test_dict.update(dict(zip(Test.Id.values.tolist(), final_test_predictions)))\n",
    "submission = pd.DataFrame.from_dict(test_dict, orient=\"index\").reset_index()\n",
    "submission.columns = ['Id', 'class_0', 'class_1']                       \n",
    "\n",
    "submission.to_csv(r\"submission.csv\", index=False)"
   ]
  },
  {
   "cell_type": "code",
   "execution_count": null,
   "id": "fe7d22eb",
   "metadata": {
    "papermill": {
     "duration": 0.009562,
     "end_time": "2023-06-16T08:38:49.763050",
     "exception": false,
     "start_time": "2023-06-16T08:38:49.753488",
     "status": "completed"
    },
    "tags": []
   },
   "outputs": [],
   "source": []
  },
  {
   "cell_type": "code",
   "execution_count": null,
   "id": "89b08d23",
   "metadata": {
    "papermill": {
     "duration": 0.009646,
     "end_time": "2023-06-16T08:38:49.782645",
     "exception": false,
     "start_time": "2023-06-16T08:38:49.772999",
     "status": "completed"
    },
    "tags": []
   },
   "outputs": [],
   "source": []
  },
  {
   "cell_type": "code",
   "execution_count": null,
   "id": "374617b0",
   "metadata": {
    "papermill": {
     "duration": 0.00967,
     "end_time": "2023-06-16T08:38:49.802499",
     "exception": false,
     "start_time": "2023-06-16T08:38:49.792829",
     "status": "completed"
    },
    "tags": []
   },
   "outputs": [],
   "source": []
  },
  {
   "cell_type": "code",
   "execution_count": null,
   "id": "d202a6e5",
   "metadata": {
    "papermill": {
     "duration": 0.010506,
     "end_time": "2023-06-16T08:38:49.823051",
     "exception": false,
     "start_time": "2023-06-16T08:38:49.812545",
     "status": "completed"
    },
    "tags": []
   },
   "outputs": [],
   "source": []
  },
  {
   "cell_type": "code",
   "execution_count": null,
   "id": "21549308",
   "metadata": {
    "papermill": {
     "duration": 0.009717,
     "end_time": "2023-06-16T08:38:49.842757",
     "exception": false,
     "start_time": "2023-06-16T08:38:49.833040",
     "status": "completed"
    },
    "tags": []
   },
   "outputs": [],
   "source": []
  },
  {
   "cell_type": "code",
   "execution_count": null,
   "id": "4f7f28b8",
   "metadata": {
    "papermill": {
     "duration": 0.009581,
     "end_time": "2023-06-16T08:38:49.862131",
     "exception": false,
     "start_time": "2023-06-16T08:38:49.852550",
     "status": "completed"
    },
    "tags": []
   },
   "outputs": [],
   "source": []
  }
 ],
 "metadata": {
  "kernelspec": {
   "display_name": "Python 3",
   "language": "python",
   "name": "python3"
  },
  "language_info": {
   "codemirror_mode": {
    "name": "ipython",
    "version": 3
   },
   "file_extension": ".py",
   "mimetype": "text/x-python",
   "name": "python",
   "nbconvert_exporter": "python",
   "pygments_lexer": "ipython3",
   "version": "3.10.10"
  },
  "papermill": {
   "default_parameters": {},
   "duration": 202.521514,
   "end_time": "2023-06-16T08:38:50.895321",
   "environment_variables": {},
   "exception": null,
   "input_path": "__notebook__.ipynb",
   "output_path": "__notebook__.ipynb",
   "parameters": {},
   "start_time": "2023-06-16T08:35:28.373807",
   "version": "2.4.0"
  }
 },
 "nbformat": 4,
 "nbformat_minor": 5
}
